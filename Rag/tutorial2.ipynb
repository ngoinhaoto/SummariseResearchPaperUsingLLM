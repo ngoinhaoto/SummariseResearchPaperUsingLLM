{
 "cells": [
  {
   "cell_type": "code",
   "execution_count": 1,
   "metadata": {},
   "outputs": [
    {
     "name": "stdout",
     "output_type": "stream",
     "text": [
      "hensi velibraries forEMO. Theefﬁcient implementation ofmeasures forquantifying thequality of\n",
      "setsofcandidate solutions isastrong argument fortheMOO-EALib .\n",
      "InSHARK weputanemphasis onvariable-metric ESsforreal-v alued optimization. Thus, the\n",
      "most recent implementation ofthecovariance matrix adaptation ES(CMA-ES; Hansen etal.,2003)\n",
      "anditsEMO counterpart (Igel etal.,2007b) areincluded. WedonotknowanyC++ toolbox for\n",
      "EAs thatcomes close totheEALib interms ofﬂexibility andquality ofalgorithms forcontinuous\n",
      "optimization.\n",
      "5.Availability andRequir ements\n",
      "TheC++ source code isavailable fromhttp://shark- project.sourceforge.net under GNU\n",
      "Public License andcompiles under MSWindows,Linux, Solaris, andMacOS X.Nothird-party\n",
      "libraries arerequired, except QtandQwtforgraphical examples.\n",
      "Ackno wledgments\n",
      "Theauthors ofthispaper comprise theteam responsible foramajor revision andthemaintenance of\n",
      "theSHARK library atthetime ofwriting thearticle. The SHARK project wasstarted byM.Kreutz,\n"
     ]
    }
   ],
   "source": [
    "from langchain.text_splitter import RecursiveCharacterTextSplitter\n",
    "from langchain.document_loaders import PyPDFLoader\n",
    "from langchain.vectorstores import Chroma\n",
    "from langchain.embeddings.openai import OpenAIEmbeddings\n",
    "from dotenv import load_dotenv\n",
    "\n",
    "load_dotenv()\n",
    "\n",
    "\n",
    "pdf = PyPDFLoader('../pdfs/igel08a.pdf')\n",
    "document = pdf.load()\n",
    "\n",
    "textsplitter = RecursiveCharacterTextSplitter(\n",
    "    chunk_size = 1000, chunk_overlap = 200, add_start_index = True\n",
    ")\n",
    "\n",
    "docs = textsplitter.split_documents(document)\n",
    "embedding = OpenAIEmbeddings()\n",
    "\n",
    "db = Chroma.from_documents(docs, embedding=  embedding,\n",
    "                           persist_directory = './testing_db')\n",
    "\n",
    "retriever = db.as_retriever(search_type = \"similarity\", search_kwargs = {\"k\": 5})\n",
    "\n",
    "query = 'What is Shark?'\n",
    "\n",
    "retrieved_docs = retriever.get_relevant_documents(\n",
    "    query\n",
    ")\n",
    "\n",
    "print(retrieved_docs[4].page_content)\n",
    "\n",
    "\n",
    "\n"
   ]
  },
  {
   "cell_type": "code",
   "execution_count": 3,
   "metadata": {},
   "outputs": [
    {
     "name": "stdout",
     "output_type": "stream",
     "text": [
      "SHARK\n",
      "may decrease aradius-mar ginquotient inorder toadapt thehyperparameters ofanSVM, where in\n",
      "each iteration anSVM model istrained byaspecial quadratic program optimizer todetermine the\n",
      "margin.\n",
      "Toreduce thecomple xity ofSVMs andGaussian processes after training, algorithms forap-\n",
      "proximating thesolutions infeature space areimplemented (Romdhani etal.,2004; Suttorp and\n",
      "Igel, 2007).\n",
      "4.EALib andMOO-EALib—Ev olutionary Single- andMulti-objecti veOptimization\n",
      "Theevolutionary algorithms module (EALib )implements classes forstochastic direct optimization\n",
      "using evolutionary computing, inparticular genetic algorithms andevolution strate gies(ESs). Evo-\n",
      "lutionary algorithms (EAs) maintain populations (i.e., multi-sets) ofcandidate solutions. Inthe\n",
      "EALib structure, instances oftheclassPopulation contain instances ofIndividual consisting of\n",
      "oneormoreChromosome s,which canhavedifferent types. Numerous variation (i.e., mutation and\n"
     ]
    }
   ],
   "source": [
    "db3 = Chroma(persist_directory=\"./testing_db\", embedding_function = embedding)\n",
    "db3.get() \n",
    "docs = db3.similarity_search(query)\n",
    "print(docs[3].page_content)"
   ]
  },
  {
   "cell_type": "code",
   "execution_count": 4,
   "metadata": {},
   "outputs": [],
   "source": [
    "another_pdf = PyPDFLoader('../pdfs/lavalley-2008-logistic-regression.pdf')\n",
    "another_doc = another_pdf.load()\n",
    "\n",
    "ano_docs = textsplitter.split_documents(another_doc)\n",
    "\n",
    "another_db = Chroma.from_documents(ano_docs, \n",
    "        embedding=  embedding,\n",
    "        persist_directory = './testing_db')\n",
    "\n",
    "# another_retriever = another_db.as_retriever(search_type = \"similarity\", search_kwargs = {\"k\": 5})"
   ]
  },
  {
   "cell_type": "code",
   "execution_count": 6,
   "metadata": {},
   "outputs": [
    {
     "name": "stdout",
     "output_type": "stream",
     "text": [
      "1.Overview\n",
      "SHARK isamodular C++ library forthedesign andoptimization ofadapti vesystems. Itservesas\n",
      "atoolbox forrealworldapplications andbasic research incomputational intelligence andmachine\n",
      "learning. Thelibrary provides methods forsingle- andmulti-objecti veoptimization, inparticular\n",
      "evolutionary andgradient-based algorithms, kernel-based learning methods, neural netw orks, and\n",
      "manyother machine learning techniques. Itsmain design criteria areﬂexibility andspeed. Here\n",
      "werestrict thedescription ofSHARK toitscore components, albeit thelibrary contains plenty of\n",
      "additional functionality. Further information canbeobtained from theHTML documentation and\n",
      "tutorials. More than 60illustrati veexample programs serveasstarting points forusing SHARK .\n",
      "2.Basic Tools—Rng, Array ,andLinAlg\n",
      "Thelibrary provides general auxiliary functions anddata structures forthedevelopment ofmachine\n",
      "learning algorithms. The Rng module generates reproducible andplatform independent sequences\n",
      "\n"
     ]
    }
   ],
   "source": [
    "query = 'What is Shark?'\n",
    "\n",
    "retrieved_docs = retriever.get_relevant_documents(\n",
    "    query\n",
    ")\n",
    "\n",
    "print(retrieved_docs[1].page_content)\n",
    "print()"
   ]
  },
  {
   "cell_type": "code",
   "execution_count": 8,
   "metadata": {},
   "outputs": [
    {
     "name": "stdout",
     "output_type": "stream",
     "text": [
      "1.Overview\n",
      "SHARK isamodular C++ library forthedesign andoptimization ofadapti vesystems. Itservesas\n",
      "atoolbox forrealworldapplications andbasic research incomputational intelligence andmachine\n",
      "learning. Thelibrary provides methods forsingle- andmulti-objecti veoptimization, inparticular\n",
      "evolutionary andgradient-based algorithms, kernel-based learning methods, neural netw orks, and\n",
      "manyother machine learning techniques. Itsmain design criteria areﬂexibility andspeed. Here\n",
      "werestrict thedescription ofSHARK toitscore components, albeit thelibrary contains plenty of\n",
      "additional functionality. Further information canbeobtained from theHTML documentation and\n",
      "tutorials. More than 60illustrati veexample programs serveasstarting points forusing SHARK .\n",
      "2.Basic Tools—Rng, Array ,andLinAlg\n",
      "Thelibrary provides general auxiliary functions anddata structures forthedevelopment ofmachine\n",
      "learning algorithms. The Rng module generates reproducible andplatform independent sequences\n",
      "\n"
     ]
    }
   ],
   "source": [
    "query = 'What is Shark|?'\n",
    "\n",
    "retrieved_docs = retriever.get_relevant_documents(\n",
    "    query\n",
    ")\n",
    "\n",
    "print(retrieved_docs[1].page_content)\n",
    "print()"
   ]
  },
  {
   "cell_type": "markdown",
   "metadata": {},
   "source": [
    "### Question Queries\n"
   ]
  },
  {
   "cell_type": "code",
   "execution_count": 9,
   "metadata": {},
   "outputs": [
    {
     "name": "stdout",
     "output_type": "stream",
     "text": [
      "{'question': 'What is Shark in C++?', 'answer': \"Shark in C++ is a modular C++ library for the design and optimization of adaptive systems. It provides methods for single- and multi-objective optimization, evolutionary and gradient-based algorithms, kernel-based learning methods, neural networks, and other machine learning techniques. Shark is an object-oriented library that serves as a toolbox for real-world applications and basic research in computational intelligence and machine learning. It is designed for flexibility and speed. The library contains core components such as Rng, Array, and LinAlg, as well as additional functionality. Shark is available under the GNU Public License and can be compiled on various operating systems. It does not require any third-party libraries except for Qt and Qwt for graphical examples. The SHARK project was started by M. Kreutz and later fused with C. Igel's ReClaM library. It has been maintained and revised by a team of contributors. The SHARK library is supported by the Honda Research Institute Europe. \\n\", 'sources': '../pdfs/igel08a.pdf'}\n"
     ]
    }
   ],
   "source": [
    "from langchain.chat_models import ChatOpenAI\n",
    "from langchain.chains import RetrievalQAWithSourcesChain\n",
    "\n",
    "chain = RetrievalQAWithSourcesChain.from_chain_type(\n",
    "    ChatOpenAI(temperature=0),\n",
    "    chain_type=\"stuff\",\n",
    "    retriever = retriever,\n",
    ")\n",
    "\n",
    "\n",
    "question = \"What is Shark in C++?\"\n",
    "response = chain.invoke(question)\n",
    "print(response)\n"
   ]
  },
  {
   "cell_type": "markdown",
   "metadata": {},
   "source": [
    "### Load Database\n"
   ]
  },
  {
   "cell_type": "code",
   "execution_count": 6,
   "metadata": {},
   "outputs": [],
   "source": [
    "from langchain.text_splitter import RecursiveCharacterTextSplitter\n",
    "from langchain.document_loaders import PyPDFLoader\n",
    "from langchain.vectorstores import Chroma\n",
    "from langchain.embeddings.openai import OpenAIEmbeddings\n",
    "from dotenv import load_dotenv\n",
    "\n",
    "load_dotenv()\n",
    "\n",
    "embedding = OpenAIEmbeddings()\n",
    "abc = Chroma(persist_directory='./database/', embedding_function = embedding)\n",
    "\n",
    "abc_retriever = abc.as_retriever(search_type = \"similarity\", search_kwargs = {\"k\": 3})\n",
    "\n",
    "abc_docs = abc_retriever.get_relevant_documents('ROLDEF')"
   ]
  },
  {
   "cell_type": "code",
   "execution_count": 7,
   "metadata": {},
   "outputs": [
    {
     "data": {
      "text/plain": [
       "[Document(page_content='pared to the SoA defense. Most importantly, ROLDEF can be\\ndeployed for any ML-based IDS and could effectively protect\\nthe learning system against adversarial attacks.Fig. 2: Proposed defense framework ( ROLDEF )\\nII. R ELATED WORK\\nA. IIoT Security\\nIIoT is an adaptation of traditional IoT for industrial en-\\nvironments enabling full automation, remote monitoring, and\\npredictive maintenance [10]. Due to inadequate standardization\\nand the lack of required skills to implement them, IIoT has\\nbecome a target for different cyber attacks, e.g., denial of\\nservice, eavesdropping, man-in-the-middle, spoofing, and side\\nchannel [11]. An adversary can gain access to an entire IIoT\\nsystem by exploiting its vulnerable assets such as operating\\nsystems, application software, industrial communication pro-\\ntocols, and smart devices [12]. There are advanced security\\nsolutions in traditional IT systems, yet these cannot be directly\\nused in IIoT systems due to IIoT’s limited power, constrained', metadata={'source': '6-pl-0'}),\n",
       " Document(page_content='pared to the SoA defense. Most importantly, ROLDEF can be\\ndeployed for any ML-based IDS and could effectively protect\\nthe learning system against adversarial attacks.Fig. 2: Proposed defense framework ( ROLDEF )\\nII. R ELATED WORK\\nA. IIoT Security\\nIIoT is an adaptation of traditional IoT for industrial en-\\nvironments enabling full automation, remote monitoring, and\\npredictive maintenance [10]. Due to inadequate standardization\\nand the lack of required skills to implement them, IIoT has\\nbecome a target for different cyber attacks, e.g., denial of\\nservice, eavesdropping, man-in-the-middle, spoofing, and side\\nchannel [11]. An adversary can gain access to an entire IIoT\\nsystem by exploiting its vulnerable assets such as operating\\nsystems, application software, industrial communication pro-\\ntocols, and smart devices [12]. There are advanced security\\nsolutions in traditional IT systems, yet these cannot be directly\\nused in IIoT systems due to IIoT’s limited power, constrained', metadata={'source': '6-pl-0'}),\n",
       " Document(page_content='See discussions, st ats, and author pr ofiles f or this public ation at : https://www .researchgate.ne t/public ation/375594560\\nROLDEF: Robust La yered Defense for Intrusion Detection Against Adversarial\\nAttacks\\nConf erence Paper  · Mar ch 2024\\nCITATIONS\\n0READS\\n62\\n3 author s, including:\\nOnat Gung or\\nUniv ersity of Calif ornia, San Die go\\n18 PUBLICA TIONS \\xa0\\xa0\\xa097 CITATIONS \\xa0\\xa0\\xa0\\nSEE PROFILE\\nBaris Aksanli\\nSan Die go St ate Univ ersity\\n83 PUBLICA TIONS \\xa0\\xa0\\xa01,138  CITATIONS \\xa0\\xa0\\xa0\\nSEE PROFILE\\nAll c ontent f ollo wing this p age was uplo aded b y Onat Gung or on 12 No vember 2023.\\nThe user has r equest ed enhanc ement of the do wnlo aded file.ROLDEF: RObust Layered DEFense for Intrusion\\nDetection Against Adversarial Attacks\\nOnat Gungor1,2, Tajana Rosing1, and Baris Aksanli2\\n1Department of Electrical and Computer Engineering, University of California, San Diego\\n2Department of Electrical and Computer Engineering, San Diego State University\\nogungor@ucsd.edu, tajana@ucsd.edu, baksanli@sdsu.edu', metadata={'source': '0-pl-0'})]"
      ]
     },
     "execution_count": 7,
     "metadata": {},
     "output_type": "execute_result"
    }
   ],
   "source": [
    "abc_docs"
   ]
  },
  {
   "cell_type": "code",
   "execution_count": null,
   "metadata": {},
   "outputs": [],
   "source": []
  }
 ],
 "metadata": {
  "kernelspec": {
   "display_name": "summary",
   "language": "python",
   "name": "python3"
  },
  "language_info": {
   "codemirror_mode": {
    "name": "ipython",
    "version": 3
   },
   "file_extension": ".py",
   "mimetype": "text/x-python",
   "name": "python",
   "nbconvert_exporter": "python",
   "pygments_lexer": "ipython3",
   "version": "3.10.13"
  }
 },
 "nbformat": 4,
 "nbformat_minor": 2
}
